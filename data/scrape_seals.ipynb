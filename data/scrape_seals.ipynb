{
 "cells": [
  {
   "cell_type": "markdown",
   "id": "6b0add56",
   "metadata": {},
   "source": [
    "# Scrape Seals\n",
    "\n",
    "### Currently operable with zdic website\n",
    "\n",
    "Make sure to add characters to main data store with the add_new_batch script, before trying to scrape their images.\n",
    "\n",
    "If scraping on characters listed in missing_chars.csv, set retry = True. If scraping on all characters, set retry = False"
   ]
  },
  {
   "cell_type": "code",
   "execution_count": 177,
   "id": "a6cad38c",
   "metadata": {},
   "outputs": [],
   "source": [
    "import csv\n",
    "import os\n",
    "import numpy as np\n",
    "import pandas as pd\n",
    "import requests\n",
    "from bs4 import BeautifulSoup\n",
    "import re\n",
    "from PIL import Image\n",
    "import urllib\n",
    "import matplotlib.pyplot as plt\n",
    "import matplotlib.image as mpimg\n",
    "import io\n",
    "from wand.api import library\n",
    "import wand.color\n",
    "import wand.image\n",
    "import time\n",
    "import sys\n",
    "import logging\n",
    "from tqdm import tqdm\n",
    "\n",
    "\n",
    "dataDir = '/dcs/project/seal-script-project-data/seal-script-new/scraped'\n",
    "charListPath = './source/CharFreq-Classical.xls'\n",
    "charsToKeep = 1000\n",
    "sources = ['https://www.zdic.net/hans/', \n",
    "            # 'https://www.cidianwang.com/shuowenjiezi/'\n",
    "            #'https://hanziyuan.net/#'\n",
    "            ]\n",
    "newImageFiletype = 'png'\n",
    "log = 'scrape.log'\n",
    "retry = False\n",
    "\n",
    "formatter = logging.Formatter(\"[%(asctime)s] [%(levelname)s] %(message)s\")\n",
    "handler = logging.FileHandler(log)\n",
    "handler.setFormatter(formatter)\n",
    "logger = logging.getLogger()\n",
    "logger.setLevel(logging.INFO)\n",
    "logger.addHandler(handler)"
   ]
  },
  {
   "cell_type": "code",
   "execution_count": 163,
   "id": "16072d0f",
   "metadata": {
    "scrolled": false
   },
   "outputs": [],
   "source": [
    "def generate_image_filename(dataDir, index, filetype):\n",
    "    ''' Generate filename for new image so that all image files within the class are numbered correctly without incontinuity or overlap '''\n",
    "    # Find directory of current character\n",
    "    curr_char_dir = os.path.join(dataDir, str(index))\n",
    "    # Get list of all objects in directory\n",
    "    files = os.listdir(curr_char_dir)\n",
    "    # Keep objects which are files\n",
    "    files = [f for f in files if os.path.isfile(curr_char_dir+'/'+f) and f'.{filetype}' in f]\n",
    "    # Get number of files in directory\n",
    "    curr_image_count = len(files)#str(int(files[-1][files[-1].index('_')+1:files[-1].index('.')])) if not len(files) == 0 else '1'     \n",
    "    # Generate filename\n",
    "    newImageFilename = f\"{index}_{curr_image_count+1}\"\n",
    "    return newImageFilename\n",
    "\n",
    "def saveSvgImage(url_list:list, dataDir:str, index:int, filetype:str):\n",
    "    '''\n",
    "    Save the SVG images discovered while scraping as <filetype>\n",
    "\n",
    "        Args:\n",
    "            url_list - list of urls to SVG images\n",
    "            dataDir - root folder of character sub-folders\n",
    "            index - index of character being scraped\n",
    "            filetype - filetype to save final images\n",
    "    '''\n",
    "    for url in range(len(url_list)):\n",
    "        img_path = 'https:' + url_list[url]\n",
    "        print(img_path)\n",
    "\n",
    "        newImageFilename = generate_image_filename(dataDir, index, filetype)\n",
    "        print(f'Filename for new image is: {newImageFilename}')\n",
    "\n",
    "        # Retrieve SVG file from url obtained from scraping and save SVG file\n",
    "        charDir = os.path.join(dataDir, str(index))\n",
    "        svg_filename, headers = urllib.request.urlretrieve(img_path, os.path.join(charDir, f\"{newImageFilename}.svg\"))#img_path[img_path.rfind('/')+1:]))\n",
    "        print(svg_filename)\n",
    "        new_image_path = os.path.join(charDir, newImageFilename + \".\" + filetype)\n",
    "\n",
    "        with open(svg_filename, \"r\") as f:\n",
    "            svg_blob = f.read().encode('utf-8')\n",
    "            with wand.image.Image( blob=svg_blob, format=\"svg\" ) as image:\n",
    "                png_image = image.make_blob(\"png\")\n",
    "                fp = io.BytesIO(png_image)\n",
    "                with fp:\n",
    "                    \n",
    "                    img = mpimg.imread(fp, format='png')\n",
    "                    plt.imshow(img, cmap='gray')\n",
    "                    plt.axis('off')\n",
    "                    plt.savefig(new_image_path)\n",
    "\n",
    "                    fp.close()\n",
    "                f.close()\n",
    "            os.remove(svg_filename)\n",
    "\n",
    "            print(f'Successfully saved new image at {new_image_path}')\n",
    "        time.sleep(3)\n",
    "\n",
    "# Get the image url from the site for given character\n",
    "def get_char_urls(url, char, index):\n",
    "    url_list = []\n",
    "    page = requests.get(url)\n",
    "    soup = BeautifulSoup(page.content, \"html.parser\")\n",
    "    results = soup.find_all(\"a\", {\"href\": f\"/zd/zx/xz/{char}\"})\n",
    "    for x in results:\n",
    "        children = x.findChildren(\"img\" , recursive=False)\n",
    "\n",
    "        # If no images exist for current element, skip to next element \n",
    "        if len(children) == 0:\n",
    "            continue\n",
    "        \n",
    "        # Check that image exists for current character, else skip to next element\n",
    "        span_child = x.findChildren(\"span\", recursive=True)[0]\n",
    "        if not f\"「{char}」\" in span_child.text:\n",
    "            continue\n",
    "\n",
    "        # Add url of image to list of urls\n",
    "        for child in children:\n",
    "            attr = child.attrs['data-original']\n",
    "            url_list.append(attr)\n",
    "    if len(url_list) == 0:\n",
    "        logger.critical(f'(Zdic) Char {char}. No urls found for images')\n",
    "    \n",
    "    return url_list        \n",
    "\n",
    "def scrapeZdic(dataDir:str, scrape_url_base:str, index:int, char:str, filetype:str):\n",
    "    try:\n",
    "        print(f\"Searching for character {index}: {char}\")\n",
    "        scrape_url = scrape_url_base + char\n",
    "        print(f\"Searching on URL {scrape_url}\")\n",
    "\n",
    "        # Get urls of all seal images for current character\n",
    "        url_list = get_char_urls(scrape_url, char, index)\n",
    "        print(url_list)\n",
    "\n",
    "        # Save each image of the character\n",
    "        if url_list != None:\n",
    "            print(f'Found {len(url_list)} images for character')\n",
    "            saveSvgImage(url_list, dataDir, index, filetype)\n",
    "        logger.info(f'(Zdic) Char {char} - {str(index)}. Finished scraping')\n",
    "    except Exception as e:\n",
    "        logger.critical(f'(Zdic) Char {char}. Failed to obtain with error: {e}')\n",
    "\n",
    "\n",
    "#####\n",
    "#\n",
    "#   CIDIANWANG SHUFA\n",
    "\n",
    "def stripWatermark(image:Image.Image):\n",
    "    \"\"\"Crop the bottom watermark from an image\"\"\"\n",
    "    im = np.array(image)\n",
    "    h, w = im.shape[:2]\n",
    "    half = w//2\n",
    "    twentyfive = w//4\n",
    "    cropLeft = half - (twentyfive//2)\n",
    "    cropTop = h - 45  # magic number\n",
    "    im[cropTop:h, cropLeft:cropLeft+twentyfive+1] = 255\n",
    "\n",
    "    out = Image.fromarray(im)\n",
    "    return out\n",
    "\n",
    "\n",
    "def scrapeCharacter(pageSoup:BeautifulSoup, index:int, dataDir:str, filetype:str):\n",
    "    \"\"\"Download individual character pictures from the result page\"\"\"\n",
    "    results = pageSoup.findAll(\"img\", {\"class\": \"lazyload\"})\n",
    "    urls = [result.attrs[\"data-src\"] for result in results]\n",
    "    print(urls)\n",
    "    \n",
    "    headers2 = {\n",
    "        'User-Agent': \"Mozilla/5.0 (Windows NT 10.0; Win64; x64) AppleWebKit/537.36 (KHTML, like Gecko) Chrome/118.0.0.0 Safari/537.36\",\n",
    "        'Referer': 'https://www.cidianwang.com/',\n",
    "        \"Host\": \"c.cidianwang.com\"\n",
    "    }\n",
    "    \n",
    "    # Generate filename for new image and create path to image\n",
    "    \n",
    "    for i, url in tqdm(enumerate(urls)):\n",
    "        print(url)\n",
    "        newImageFilename = generate_image_filename(dataDir, index, filetype)\n",
    "        path = os.path.join(dataDir, str(index))\n",
    "        path = os.path.join(path, newImageFilename)\n",
    "        try:\n",
    "            if not re.findall(\"zhuanshu\", url):  # zhuanshu: seal script\n",
    "                continue\n",
    "            print(i, url)\n",
    "            img = Image.open(requests.get(url, stream=True, headers=headers2).raw)\n",
    "            img = stripWatermark(img)\n",
    "            img.save(path + \".png\")\n",
    "        except Exception as e:\n",
    "            logger.error(e)\n",
    "\n",
    "\n",
    "def searchShufa(character:str, index:int, dataDir:str, filetype:str):\n",
    "    \"\"\"Scrape cidianwang shufa\n",
    "    \n",
    "    character: any han character\"\"\"\n",
    "    headers = {\n",
    "        'User-Agent': \"Mozilla/5.0 (Windows NT 10.0; Win64; x64) AppleWebKit/537.36 (KHTML, like Gecko) Chrome/118.0.0.0 Safari/537.36\",\n",
    "        'Referer': 'https://www.cidianwang.com/'\n",
    "    }\n",
    "    \n",
    "    try:\n",
    "        url = f\"https://search.cidianwang.com/?m=8&q={character}&z=输入书法家&y=4\"\n",
    "        page = requests.get(url, headers=headers)\n",
    "        soup = BeautifulSoup(page.content, \"html.parser\")\n",
    "        scrapeCharacter(soup, index, dataDir, filetype)\n",
    "        logger.info(f'(Shufa) Char {character} - {str(index)}. Finished scraping')\n",
    "    except Exception as ex:\n",
    "        e = sys.exc_info()[0]\n",
    "        logger.critical(f'(Shufa) Char {character}. Failed to obtain with error: {e}')\n",
    "        import traceback\n",
    "        traceback.print_exc(ex)\n",
    "\n",
    "\n",
    "#####\n",
    "\n",
    "\n",
    "def setupCharStorage(dataDir:str, charList:list):\n",
    "    '''\n",
    "        Make a folder to store images for each character.\n",
    "\n",
    "        Args:\n",
    "            dataDir - location to make folders\n",
    "            charList - list of characters to make folders for\n",
    "    '''\n",
    "    for i in range(len(charList)):\n",
    "        idx = str(charList['idx'].iloc[i])\n",
    "        if not os.path.exists(os.path.join(dataDir, idx)):\n",
    "            os.makedirs(os.path.join(dataDir, idx))\n"
   ]
  },
  {
   "cell_type": "code",
   "execution_count": 179,
   "id": "e7bfdb80",
   "metadata": {},
   "outputs": [],
   "source": [
    "### MAIN FUNCTION FOR SCRAPING\n",
    "def main(charListPath:str, dataDir:str, charsToKeep:int, sources:list):\n",
    "    # Read excel file\n",
    "    xls_content = pd.read_excel(charListPath)\n",
    "    # Grab desired columns and number of chars\n",
    "    charList = xls_content[['Unnamed: 0', 'Unnamed: 1']].iloc[1:charsToKeep+1]\n",
    "    # Rename columnds\n",
    "    charList.columns = ['idx', 'char']\n",
    "    # Save char list to csv file\n",
    "    charList.to_csv('./classical_chars.csv', index=False, header=False)\n",
    "    \n",
    "    # Create folder structure for storing character images\n",
    "    setupCharStorage(dataDir, charList)\n",
    "\n",
    "    # Scrape Zdic\n",
    "    source = sources[0]\n",
    "    for i, (idx, char) in charList.iterrows():\n",
    "        print(i)\n",
    "        if i==2:\n",
    "            break\n",
    "        scrapeZdic(dataDir, source, idx, char, newImageFiletype)\n",
    "\n",
    "    # Scrape Shufa\n",
    "    for i, (idx, char) in charList.iterrows():\n",
    "        print(i)\n",
    "        if i==2:\n",
    "            break\n",
    "        searchShufa(char, idx, dataDir, newImageFiletype)\n"
   ]
  },
  {
   "cell_type": "code",
   "execution_count": 180,
   "id": "bca783ba",
   "metadata": {},
   "outputs": [
    {
     "name": "stdout",
     "output_type": "stream",
     "text": [
      "1\n",
      "Searching for character 1: 之\n",
      "Searching on URL https://www.zdic.net/hans/之\n",
      "[<a href=\"/zd/zx/xz/之\"><img class=\"lazy ypic\" data-original=\"//img.zdic.net/zy/xiaozhuan/27_4E4B.svg\"/><span>「之」 說文‧之部</span></a>, <a href=\"/zd/zx/xz/之\">說文小篆</a>]\n",
      "<a href=\"/zd/zx/xz/之\"><img class=\"lazy ypic\" data-original=\"//img.zdic.net/zy/xiaozhuan/27_4E4B.svg\"/><span>「之」 說文‧之部</span></a>\n",
      "[<img class=\"lazy ypic\" data-original=\"//img.zdic.net/zy/xiaozhuan/27_4E4B.svg\"/>]\n",
      "「之」 說文‧之部\n",
      "True\n",
      "<a href=\"/zd/zx/xz/之\">說文小篆</a>\n",
      "[]\n",
      "['//img.zdic.net/zy/xiaozhuan/27_4E4B.svg']\n",
      "Found 1 images for character\n",
      "https://img.zdic.net/zy/xiaozhuan/27_4E4B.svg\n",
      "Filename for new image is: 1_1\n",
      "/dcs/project/seal-script-project-data/seal-script-new/scraped/1/1_1.svg\n",
      "Successfully saved new image at /dcs/project/seal-script-project-data/seal-script-new/scraped/1/1_1.png\n",
      "[2024-04-16 00:43:08,046] [INFO] (Zdic) Char 之 - 1. Finished scraping\n",
      "[2024-04-16 00:43:08,046] [INFO] (Zdic) Char 之 - 1. Finished scraping\n",
      "[2024-04-16 00:43:08,046] [INFO] (Zdic) Char 之 - 1. Finished scraping\n",
      "2\n",
      "1\n",
      "['https://c.cidianwang.com/file/shufa/zhuanshu/2021106124052bc0dd.jpg', 'https://c.cidianwang.com/file/shufa/zhuanshu/2021106124052ac0d4.jpg', 'https://c.cidianwang.com/file/shufa/zhuanshu/2021106122235073de.jpg', 'https://c.cidianwang.com/file/shufa/zhuanshu/20211061212263c1c4.jpg', 'https://c.cidianwang.com/file/shufa/zhuanshu/202110612122674be1.jpg', 'https://c.cidianwang.com/file/shufa/zhuanshu/2019121794240f05d1.jpg', 'https://c.cidianwang.com/file/shufa/zhuanshu/201912162136617e31.jpg', 'https://c.cidianwang.com/file/shufa/zhuanshu/dengshiru/20197251411202bb3e.jpg', 'https://c.cidianwang.com/file/shufa/zhuanshu/ligangtian/201972592934dac9f.jpg', 'https://c.cidianwang.com/file/shufa/zhuanshu/laichusheng/20197259254743531.jpg', 'https://c.cidianwang.com/file/shufa/zhuanshu/20188418334fde3c.jpg', 'https://c.cidianwang.com/file/shufa/zhuanshu/20188418334a9ec3.jpg', 'https://c.cidianwang.com/file/shufa/zhuanshu/201884183341f871.jpg', 'https://c.cidianwang.com/file/shufa/zhuanshu/201884182935c2be5.jpg', 'https://c.cidianwang.com/file/shufa/zhuanshu/20183221144612576.jpg', 'https://c.cidianwang.com/file/shufa/zhuanshu/hantianheng/2017424175735f0a3a.jpg', 'https://c.cidianwang.com/file/shufa/zhuanshu/liyangbing/2017122183412bee3.jpg', 'https://c.cidianwang.com/file/shufa/zhuanshu/dengshiru/201692516374941124.jpg', 'https://c.cidianwang.com/file/shufa/zhuanshu/dengshiru/2016925163358a2c26.jpg', 'https://c.cidianwang.com/file/shufa/zhuanshu/2016925162321dce79.jpg', 'https://c.cidianwang.com/file/shufa/zhuanshu/fangquji/20169251613446ec9c.jpg', 'https://c.cidianwang.com/file/shufa/zhuanshu/c296a7c70eb3aeea.gif', 'https://c.cidianwang.com/file/shufa/zhuanshu/bff4dc5ea1131722.gif', 'https://c.cidianwang.com/file/shufa/zhuanshu/28ce45ab1432967a.gif', 'https://c.cidianwang.com/file/shufa/zhuanshu/201692516242610aeb.jpg', 'https://c.cidianwang.com/file/shufa/xingshu/2014111117071540.jpg', 'https://c.cidianwang.com/file/shufa/zhuanshu/201832211450faa70.jpg', 'https://c.cidianwang.com/file/shufa/caoshu/40c718db3d5cd26c.gif', 'https://c.cidianwang.com/file/shufa/zhuanshu/201692516243a704b.jpg', 'https://c.cidianwang.com/file/shufa/xingshu/tangyin/2018323113134dba8.jpg', 'https://c.cidianwang.com/file/shufa/xingshu/2014111010384268.jpg', 'https://c.cidianwang.com/file/shufa/xingshu/wenzhengming/202110816341923ac.jpg', 'https://c.cidianwang.com/file/shufa/xingshu/2014123120442054.jpg', 'https://c.cidianwang.com/file/shufa/xingshu/2015011215353357.jpg', 'https://c.cidianwang.com/file/shufa/xingshu/huangtingjian/2018841946170e439.jpg', 'https://c.cidianwang.com/file/shufa2/lishu/2/1064407592.gif', 'https://c.cidianwang.com/file/shufa/zhuanshu/20169251623134f6be.jpg', 'https://c.cidianwang.com/file/shufa/kaishu/hzy2015816142643862.jpg', 'https://c.cidianwang.com/file/shufa/xingshu/dongqichang/201972512282588588.jpg', 'https://c.cidianwang.com/file/shufa/xingshu/beike/2021108101033c2449.jpg', 'https://c.cidianwang.com/file/shufa/zhuanshu/20169251622599c526.jpg', 'https://c.cidianwang.com/file/shufa/xingshu/a/20211089134997cf7.jpg', 'https://c.cidianwang.com/file/shufa/lishu/5a421e6eb8851313.gif', 'https://c.cidianwang.com/file/shufa/xingshu/beike/20211081010228250d.jpg']\n"
     ]
    },
    {
     "name": "stderr",
     "output_type": "stream",
     "text": [
      "0it [00:00, ?it/s]"
     ]
    },
    {
     "name": "stdout",
     "output_type": "stream",
     "text": [
      "https://c.cidianwang.com/file/shufa/zhuanshu/2021106124052bc0dd.jpg\n",
      "0 https://c.cidianwang.com/file/shufa/zhuanshu/2021106124052bc0dd.jpg\n"
     ]
    },
    {
     "name": "stderr",
     "output_type": "stream",
     "text": [
      "1it [00:01,  1.22s/it]"
     ]
    },
    {
     "name": "stdout",
     "output_type": "stream",
     "text": [
      "https://c.cidianwang.com/file/shufa/zhuanshu/2021106124052ac0d4.jpg\n",
      "1 https://c.cidianwang.com/file/shufa/zhuanshu/2021106124052ac0d4.jpg\n"
     ]
    },
    {
     "name": "stderr",
     "output_type": "stream",
     "text": [
      "2it [00:02,  1.18s/it]"
     ]
    },
    {
     "name": "stdout",
     "output_type": "stream",
     "text": [
      "https://c.cidianwang.com/file/shufa/zhuanshu/2021106122235073de.jpg\n",
      "2 https://c.cidianwang.com/file/shufa/zhuanshu/2021106122235073de.jpg\n"
     ]
    },
    {
     "name": "stderr",
     "output_type": "stream",
     "text": [
      "3it [00:03,  1.15s/it]"
     ]
    },
    {
     "name": "stdout",
     "output_type": "stream",
     "text": [
      "https://c.cidianwang.com/file/shufa/zhuanshu/20211061212263c1c4.jpg\n",
      "3 https://c.cidianwang.com/file/shufa/zhuanshu/20211061212263c1c4.jpg\n"
     ]
    },
    {
     "name": "stderr",
     "output_type": "stream",
     "text": [
      "4it [00:04,  1.05s/it]"
     ]
    },
    {
     "name": "stdout",
     "output_type": "stream",
     "text": [
      "https://c.cidianwang.com/file/shufa/zhuanshu/202110612122674be1.jpg\n",
      "4 https://c.cidianwang.com/file/shufa/zhuanshu/202110612122674be1.jpg\n"
     ]
    },
    {
     "name": "stderr",
     "output_type": "stream",
     "text": [
      "5it [00:05,  1.01it/s]"
     ]
    },
    {
     "name": "stdout",
     "output_type": "stream",
     "text": [
      "https://c.cidianwang.com/file/shufa/zhuanshu/2019121794240f05d1.jpg\n",
      "5 https://c.cidianwang.com/file/shufa/zhuanshu/2019121794240f05d1.jpg\n"
     ]
    },
    {
     "name": "stderr",
     "output_type": "stream",
     "text": [
      "6it [00:06,  1.03s/it]"
     ]
    },
    {
     "name": "stdout",
     "output_type": "stream",
     "text": [
      "https://c.cidianwang.com/file/shufa/zhuanshu/201912162136617e31.jpg\n",
      "6 https://c.cidianwang.com/file/shufa/zhuanshu/201912162136617e31.jpg\n"
     ]
    },
    {
     "name": "stderr",
     "output_type": "stream",
     "text": [
      "7it [00:07,  1.05s/it]"
     ]
    },
    {
     "name": "stdout",
     "output_type": "stream",
     "text": [
      "https://c.cidianwang.com/file/shufa/zhuanshu/dengshiru/20197251411202bb3e.jpg\n",
      "7 https://c.cidianwang.com/file/shufa/zhuanshu/dengshiru/20197251411202bb3e.jpg\n"
     ]
    },
    {
     "name": "stderr",
     "output_type": "stream",
     "text": [
      "8it [00:08,  1.07s/it]"
     ]
    },
    {
     "name": "stdout",
     "output_type": "stream",
     "text": [
      "https://c.cidianwang.com/file/shufa/zhuanshu/ligangtian/201972592934dac9f.jpg\n",
      "8 https://c.cidianwang.com/file/shufa/zhuanshu/ligangtian/201972592934dac9f.jpg\n"
     ]
    },
    {
     "name": "stderr",
     "output_type": "stream",
     "text": [
      "9it [00:09,  1.08s/it]"
     ]
    },
    {
     "name": "stdout",
     "output_type": "stream",
     "text": [
      "https://c.cidianwang.com/file/shufa/zhuanshu/laichusheng/20197259254743531.jpg\n",
      "9 https://c.cidianwang.com/file/shufa/zhuanshu/laichusheng/20197259254743531.jpg\n"
     ]
    },
    {
     "name": "stderr",
     "output_type": "stream",
     "text": [
      "10it [00:10,  1.11s/it]"
     ]
    },
    {
     "name": "stdout",
     "output_type": "stream",
     "text": [
      "https://c.cidianwang.com/file/shufa/zhuanshu/20188418334fde3c.jpg\n",
      "10 https://c.cidianwang.com/file/shufa/zhuanshu/20188418334fde3c.jpg\n"
     ]
    },
    {
     "name": "stderr",
     "output_type": "stream",
     "text": [
      "11it [00:12,  1.13s/it]"
     ]
    },
    {
     "name": "stdout",
     "output_type": "stream",
     "text": [
      "https://c.cidianwang.com/file/shufa/zhuanshu/20188418334a9ec3.jpg\n",
      "11 https://c.cidianwang.com/file/shufa/zhuanshu/20188418334a9ec3.jpg\n"
     ]
    },
    {
     "name": "stderr",
     "output_type": "stream",
     "text": [
      "12it [00:13,  1.14s/it]"
     ]
    },
    {
     "name": "stdout",
     "output_type": "stream",
     "text": [
      "https://c.cidianwang.com/file/shufa/zhuanshu/201884183341f871.jpg\n",
      "12 https://c.cidianwang.com/file/shufa/zhuanshu/201884183341f871.jpg\n"
     ]
    },
    {
     "name": "stderr",
     "output_type": "stream",
     "text": [
      "13it [00:14,  1.14s/it]"
     ]
    },
    {
     "name": "stdout",
     "output_type": "stream",
     "text": [
      "https://c.cidianwang.com/file/shufa/zhuanshu/201884182935c2be5.jpg\n",
      "13 https://c.cidianwang.com/file/shufa/zhuanshu/201884182935c2be5.jpg\n"
     ]
    },
    {
     "name": "stderr",
     "output_type": "stream",
     "text": [
      "14it [00:15,  1.12s/it]"
     ]
    },
    {
     "name": "stdout",
     "output_type": "stream",
     "text": [
      "https://c.cidianwang.com/file/shufa/zhuanshu/20183221144612576.jpg\n",
      "14 https://c.cidianwang.com/file/shufa/zhuanshu/20183221144612576.jpg\n"
     ]
    },
    {
     "name": "stderr",
     "output_type": "stream",
     "text": [
      "15it [00:16,  1.11s/it]"
     ]
    },
    {
     "name": "stdout",
     "output_type": "stream",
     "text": [
      "https://c.cidianwang.com/file/shufa/zhuanshu/hantianheng/2017424175735f0a3a.jpg\n",
      "15 https://c.cidianwang.com/file/shufa/zhuanshu/hantianheng/2017424175735f0a3a.jpg\n"
     ]
    },
    {
     "name": "stderr",
     "output_type": "stream",
     "text": [
      "16it [00:17,  1.11s/it]"
     ]
    },
    {
     "name": "stdout",
     "output_type": "stream",
     "text": [
      "https://c.cidianwang.com/file/shufa/zhuanshu/liyangbing/2017122183412bee3.jpg\n",
      "16 https://c.cidianwang.com/file/shufa/zhuanshu/liyangbing/2017122183412bee3.jpg\n"
     ]
    },
    {
     "name": "stderr",
     "output_type": "stream",
     "text": [
      "17it [00:18,  1.11s/it]"
     ]
    },
    {
     "name": "stdout",
     "output_type": "stream",
     "text": [
      "https://c.cidianwang.com/file/shufa/zhuanshu/dengshiru/201692516374941124.jpg\n",
      "17 https://c.cidianwang.com/file/shufa/zhuanshu/dengshiru/201692516374941124.jpg\n"
     ]
    },
    {
     "name": "stderr",
     "output_type": "stream",
     "text": [
      "18it [00:19,  1.10s/it]"
     ]
    },
    {
     "name": "stdout",
     "output_type": "stream",
     "text": [
      "https://c.cidianwang.com/file/shufa/zhuanshu/dengshiru/2016925163358a2c26.jpg\n",
      "18 https://c.cidianwang.com/file/shufa/zhuanshu/dengshiru/2016925163358a2c26.jpg\n"
     ]
    },
    {
     "name": "stderr",
     "output_type": "stream",
     "text": [
      "19it [00:20,  1.08s/it]"
     ]
    },
    {
     "name": "stdout",
     "output_type": "stream",
     "text": [
      "https://c.cidianwang.com/file/shufa/zhuanshu/2016925162321dce79.jpg\n",
      "19 https://c.cidianwang.com/file/shufa/zhuanshu/2016925162321dce79.jpg\n"
     ]
    },
    {
     "name": "stderr",
     "output_type": "stream",
     "text": [
      "20it [00:21,  1.08s/it]"
     ]
    },
    {
     "name": "stdout",
     "output_type": "stream",
     "text": [
      "https://c.cidianwang.com/file/shufa/zhuanshu/fangquji/20169251613446ec9c.jpg\n",
      "20 https://c.cidianwang.com/file/shufa/zhuanshu/fangquji/20169251613446ec9c.jpg\n"
     ]
    },
    {
     "name": "stderr",
     "output_type": "stream",
     "text": [
      "21it [00:22,  1.09s/it]"
     ]
    },
    {
     "name": "stdout",
     "output_type": "stream",
     "text": [
      "https://c.cidianwang.com/file/shufa/zhuanshu/c296a7c70eb3aeea.gif\n",
      "21 https://c.cidianwang.com/file/shufa/zhuanshu/c296a7c70eb3aeea.gif\n"
     ]
    },
    {
     "name": "stderr",
     "output_type": "stream",
     "text": [
      "22it [00:24,  1.08s/it]"
     ]
    },
    {
     "name": "stdout",
     "output_type": "stream",
     "text": [
      "https://c.cidianwang.com/file/shufa/zhuanshu/bff4dc5ea1131722.gif\n",
      "22 https://c.cidianwang.com/file/shufa/zhuanshu/bff4dc5ea1131722.gif\n"
     ]
    },
    {
     "name": "stderr",
     "output_type": "stream",
     "text": [
      "23it [00:25,  1.07s/it]"
     ]
    },
    {
     "name": "stdout",
     "output_type": "stream",
     "text": [
      "https://c.cidianwang.com/file/shufa/zhuanshu/28ce45ab1432967a.gif\n",
      "23 https://c.cidianwang.com/file/shufa/zhuanshu/28ce45ab1432967a.gif\n"
     ]
    },
    {
     "name": "stderr",
     "output_type": "stream",
     "text": [
      "24it [00:26,  1.07s/it]"
     ]
    },
    {
     "name": "stdout",
     "output_type": "stream",
     "text": [
      "https://c.cidianwang.com/file/shufa/zhuanshu/201692516242610aeb.jpg\n",
      "24 https://c.cidianwang.com/file/shufa/zhuanshu/201692516242610aeb.jpg\n"
     ]
    },
    {
     "name": "stderr",
     "output_type": "stream",
     "text": [
      "25it [00:27,  1.09s/it]"
     ]
    },
    {
     "name": "stdout",
     "output_type": "stream",
     "text": [
      "https://c.cidianwang.com/file/shufa/xingshu/2014111117071540.jpg\n",
      "https://c.cidianwang.com/file/shufa/zhuanshu/201832211450faa70.jpg\n",
      "26 https://c.cidianwang.com/file/shufa/zhuanshu/201832211450faa70.jpg\n"
     ]
    },
    {
     "name": "stderr",
     "output_type": "stream",
     "text": [
      "27it [00:28,  1.20it/s]"
     ]
    },
    {
     "name": "stdout",
     "output_type": "stream",
     "text": [
      "https://c.cidianwang.com/file/shufa/caoshu/40c718db3d5cd26c.gif\n",
      "https://c.cidianwang.com/file/shufa/zhuanshu/201692516243a704b.jpg\n",
      "28 https://c.cidianwang.com/file/shufa/zhuanshu/201692516243a704b.jpg\n"
     ]
    },
    {
     "name": "stderr",
     "output_type": "stream",
     "text": [
      "29it [00:29,  1.39it/s]"
     ]
    },
    {
     "name": "stdout",
     "output_type": "stream",
     "text": [
      "https://c.cidianwang.com/file/shufa/xingshu/tangyin/2018323113134dba8.jpg\n",
      "https://c.cidianwang.com/file/shufa/xingshu/2014111010384268.jpg\n",
      "https://c.cidianwang.com/file/shufa/xingshu/wenzhengming/202110816341923ac.jpg\n",
      "https://c.cidianwang.com/file/shufa/xingshu/2014123120442054.jpg\n",
      "https://c.cidianwang.com/file/shufa/xingshu/2015011215353357.jpg\n",
      "https://c.cidianwang.com/file/shufa/xingshu/huangtingjian/2018841946170e439.jpg\n",
      "https://c.cidianwang.com/file/shufa2/lishu/2/1064407592.gif\n",
      "https://c.cidianwang.com/file/shufa/zhuanshu/20169251623134f6be.jpg\n",
      "36 https://c.cidianwang.com/file/shufa/zhuanshu/20169251623134f6be.jpg\n"
     ]
    },
    {
     "name": "stderr",
     "output_type": "stream",
     "text": [
      "37it [00:30,  3.17it/s]"
     ]
    },
    {
     "name": "stdout",
     "output_type": "stream",
     "text": [
      "https://c.cidianwang.com/file/shufa/kaishu/hzy2015816142643862.jpg\n",
      "https://c.cidianwang.com/file/shufa/xingshu/dongqichang/201972512282588588.jpg\n",
      "https://c.cidianwang.com/file/shufa/xingshu/beike/2021108101033c2449.jpg\n",
      "https://c.cidianwang.com/file/shufa/zhuanshu/20169251622599c526.jpg\n",
      "40 https://c.cidianwang.com/file/shufa/zhuanshu/20169251622599c526.jpg\n"
     ]
    },
    {
     "name": "stderr",
     "output_type": "stream",
     "text": [
      "44it [00:31,  1.39it/s]"
     ]
    },
    {
     "name": "stdout",
     "output_type": "stream",
     "text": [
      "https://c.cidianwang.com/file/shufa/xingshu/a/20211089134997cf7.jpg\n",
      "https://c.cidianwang.com/file/shufa/lishu/5a421e6eb8851313.gif\n",
      "https://c.cidianwang.com/file/shufa/xingshu/beike/20211081010228250d.jpg\n",
      "[2024-04-16 00:43:42,450] [INFO] (Shufa) Char 之 - 1. Finished scraping\n",
      "[2024-04-16 00:43:42,450] [INFO] (Shufa) Char 之 - 1. Finished scraping\n",
      "[2024-04-16 00:43:42,450] [INFO] (Shufa) Char 之 - 1. Finished scraping\n",
      "2\n"
     ]
    },
    {
     "name": "stderr",
     "output_type": "stream",
     "text": [
      "\n"
     ]
    },
    {
     "data": {
      "image/png": "[encoded data removed]",
      "text/plain": [
       "<Figure size 640x480 with 1 Axes>"
      ]
     },
     "metadata": {},
     "output_type": "display_data"
    }
   ],
   "source": [
    "main(charListPath=charListPath, dataDir=dataDir, charsToKeep=charsToKeep, sources=sources)"
   ]
  }
 ],
 "metadata": {
  "kernelspec": {
   "display_name": "Python 3 (ipykernel)",
   "language": "python",
   "name": "python3"
  },
  "language_info": {
   "codemirror_mode": {
    "name": "ipython",
    "version": 3
   },
   "file_extension": ".py",
   "mimetype": "text/x-python",
   "name": "python",
   "nbconvert_exporter": "python",
   "pygments_lexer": "ipython3",
   "version": "3.9.13"
  }
 },
 "nbformat": 4,
 "nbformat_minor": 5
}
