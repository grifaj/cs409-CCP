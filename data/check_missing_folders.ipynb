{
 "cells": [
  {
   "cell_type": "code",
   "execution_count": 12,
   "id": "d1457cd8",
   "metadata": {},
   "outputs": [],
   "source": [
    "import os\n",
    "import numpy as np\n",
    "import csv\n",
    "\n",
    "data_dir = './source'"
   ]
  },
  {
   "cell_type": "code",
   "execution_count": 13,
   "id": "47f9e9c9",
   "metadata": {},
   "outputs": [],
   "source": [
    "def load_data(char_from, char_to):\n",
    "    data = np.genfromtxt(os.path.join(data_dir, 'hsk.csv'), delimiter=',', encoding='utf8', dtype=None)\n",
    "    char_array = data[char_from-1:char_to]\n",
    "    print(f\"Imported {char_array.shape[0]} characters from index {char_from} to {char_to}\")\n",
    "    \n",
    "    return char_array\n",
    "\n",
    "def check_missing_folders(data):\n",
    "    missing_chars = []\n",
    "    obj = os.scandir(data_dir)\n",
    "    with open(os.path.join(data_dir, 'empty_folders.txt'), 'a') as f:\n",
    "        for entry in obj:\n",
    "            if entry.is_dir():\n",
    "                if len(os.listdir(os.path.join(data_dir, entry.name))) == 0:\n",
    "                    missing_chars.append([data[int(entry.name)][1], entry.name])\n",
    "                    f.write(entry.name + '\\n')\n",
    "    f.close()\n",
    "    return missing_chars\n",
    "\n",
    "def save_missing_chars(data):\n",
    "    with open(os.path.join(data_dir, \"missing_chars.csv\"),\"w+\", encoding=\"utf8\", newline=\"\") as f:\n",
    "        csvWriter = csv.writer(f)\n",
    "        csvWriter.writerows(data)\n",
    "        \n",
    "        f.close()"
   ]
  },
  {
   "cell_type": "code",
   "execution_count": 17,
   "id": "a3bfa163",
   "metadata": {},
   "outputs": [],
   "source": [
    "def main():\n",
    "    missed_chars = check_missing_folders(load_data(1, 1076))\n",
    "    print('Characters without images:')\n",
    "    print(missed_chars)\n",
    "    print(f'Found {len(missed_chars)} characters without images')\n",
    "    save_missing_chars(missed_chars)"
   ]
  },
  {
   "cell_type": "code",
   "execution_count": 18,
   "id": "15a56e7f",
   "metadata": {},
   "outputs": [
    {
     "name": "stdout",
     "output_type": "stream",
     "text": [
      "Imported 1076 characters from index 1 to 1076\n",
      "Characters without images:\n",
      "[['汽', '210'], ['踢', '215'], ['睛', '312'], ['参', '424'], ['辆', '494'], ['裤', '604'], ['乓', '685'], ['熟', '715'], ['忆', '771'], ['擦', '775'], ['尊', '789'], ['住', '87'], ['钥', '906'], ['够', '958']]\n",
      "Found 14 characters without images\n"
     ]
    }
   ],
   "source": [
    "main()"
   ]
  }
 ],
 "metadata": {
  "kernelspec": {
   "display_name": "Python 3 (ipykernel)",
   "language": "python",
   "name": "python3"
  },
  "language_info": {
   "codemirror_mode": {
    "name": "ipython",
    "version": 3
   },
   "file_extension": ".py",
   "mimetype": "text/x-python",
   "name": "python",
   "nbconvert_exporter": "python",
   "pygments_lexer": "ipython3",
   "version": "3.10.8"
  }
 },
 "nbformat": 4,
 "nbformat_minor": 5
}
