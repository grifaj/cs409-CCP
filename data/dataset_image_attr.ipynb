{
 "cells": [
  {
   "cell_type": "code",
   "execution_count": 2,
   "metadata": {},
   "outputs": [],
   "source": [
    "from PIL import Image\n",
    "import numpy as np\n",
    "import pandas as pd"
   ]
  },
  {
   "cell_type": "code",
   "execution_count": 4,
   "metadata": {},
   "outputs": [
    {
     "name": "stdout",
     "output_type": "stream",
     "text": [
      "2.8333333333333335\n"
     ]
    }
   ],
   "source": [
    "x = np.array([[1,1,1], [2,2,2]])\n",
    "y = np.array([[1,2,1], [1,2,1]])\n",
    "\n",
    "x += y\n",
    "print(x.mean())"
   ]
  },
  {
   "cell_type": "code",
   "execution_count": 4,
   "metadata": {},
   "outputs": [
    {
     "name": "stdout",
     "output_type": "stream",
     "text": [
      "                                                       0    1\n",
      "0          seal-script-full/seal-script-images/1\\1_1.png    1\n",
      "1         seal-script-full/seal-script-images/1\\1_10.png    1\n",
      "2         seal-script-full/seal-script-images/1\\1_11.png    1\n",
      "3         seal-script-full/seal-script-images/1\\1_12.png    1\n",
      "4         seal-script-full/seal-script-images/1\\1_13.png    1\n",
      "...                                                  ...  ...\n",
      "73137  seal-script-full/seal-script-images/999\\999_68...  999\n",
      "73138  seal-script-full/seal-script-images/999\\999_69...  999\n",
      "73139  seal-script-full/seal-script-images/999\\999_7.png  999\n",
      "73140  seal-script-full/seal-script-images/999\\999_8.png  999\n",
      "73141  seal-script-full/seal-script-images/999\\999_9.png  999\n",
      "\n",
      "[73142 rows x 2 columns]\n"
     ]
    }
   ],
   "source": [
    "trainData = 'trainData.csv'\n",
    "im_size = 128\n",
    "\n",
    "data = pd.read_csv(trainData, header=None)\n",
    "print(data)\n",
    "\n",
    "pixel_values = np.zeros((128,128))\n",
    "# std = np.zeros((128,128))\n",
    "\n",
    "for i in range(len(data)):\n",
    "    pixel_values += np.asarray(Image.open(data[0].iloc[i]).convert(\"L\"))\n",
    "\n",
    "means = pixel_values.mean()\n",
    "std = pixel_values.std()\n",
    "\n",
    "print(f'[INFO] Pixel mean is {means}')\n",
    "print(f'[INFO] Pixel std is {std}')"
   ]
  }
 ],
 "metadata": {
  "kernelspec": {
   "display_name": "Python 3",
   "language": "python",
   "name": "python3"
  },
  "language_info": {
   "codemirror_mode": {
    "name": "ipython",
    "version": 3
   },
   "file_extension": ".py",
   "mimetype": "text/x-python",
   "name": "python",
   "nbconvert_exporter": "python",
   "pygments_lexer": "ipython3",
   "version": "3.9.0"
  }
 },
 "nbformat": 4,
 "nbformat_minor": 2
}
