{
 "cells": [
  {
   "cell_type": "code",
   "execution_count": 8,
   "metadata": {},
   "outputs": [],
   "source": [
    "from PIL import Image\n",
    "import numpy as np\n",
    "import pandas as pd"
   ]
  },
  {
   "cell_type": "code",
   "execution_count": 9,
   "metadata": {},
   "outputs": [
    {
     "name": "stdout",
     "output_type": "stream",
     "text": [
      "2.8333333333333335\n"
     ]
    }
   ],
   "source": [
    "x = np.array([[1,1,1], [2,2,2]])\n",
    "y = np.array([[1,2,1], [1,2,1]])\n",
    "\n",
    "x += y\n",
    "print(x.mean())"
   ]
  },
  {
   "cell_type": "code",
   "execution_count": 18,
   "metadata": {},
   "outputs": [
    {
     "name": "stdout",
     "output_type": "stream",
     "text": [
      "                                                       0    1\n",
      "0      /dcs/large/u2009169/seal-script-images/459/459...  459\n",
      "1      /dcs/large/u2009169/seal-script-images/459/459...  459\n",
      "2      /dcs/large/u2009169/seal-script-images/459/459...  459\n",
      "3      /dcs/large/u2009169/seal-script-images/459/459...  459\n",
      "4      /dcs/large/u2009169/seal-script-images/459/459...  459\n",
      "...                                                  ...  ...\n",
      "73137  /dcs/large/u2009169/seal-script-images/640/640...  640\n",
      "73138  /dcs/large/u2009169/seal-script-images/640/640...  640\n",
      "73139  /dcs/large/u2009169/seal-script-images/640/640...  640\n",
      "73140  /dcs/large/u2009169/seal-script-images/640/640...  640\n",
      "73141  /dcs/large/u2009169/seal-script-images/640/640...  640\n",
      "\n",
      "[73142 rows x 2 columns]\n",
      "[INFO] Pixel mean is [[217.42453037 217.37648683 217.3618851  ... 217.62162643 217.60699735\n",
      "  217.49622652]\n",
      " [217.2666457  217.17721692 217.12131197 ... 217.44815564 217.45095841\n",
      "  217.47372235]\n",
      " [217.05810615 216.97983375 216.98351153 ... 217.3656996  217.36862541\n",
      "  217.32806049]\n",
      " ...\n",
      " [217.82417763 217.8255585  217.68406661 ... 217.76590741 217.82070493\n",
      "  217.77450712]\n",
      " [217.79692926 217.72624484 217.57101255 ... 217.75516119 217.74966504\n",
      "  217.71564901]\n",
      " [217.71506111 217.54094775 217.52024828 ... 217.67105083 217.63770474\n",
      "  217.64858768]]\n",
      "[INFO] Pixel std is [[45.66748539 45.04502071 44.91798515 ... 44.60844349 44.9739813\n",
      "  45.44603061]\n",
      " [45.38753263 45.32109773 45.05963536 ... 44.68693505 45.0040081\n",
      "  45.16771177]\n",
      " [45.27073968 45.28680811 45.16615395 ... 44.76589094 44.91283248\n",
      "  44.90984823]\n",
      " ...\n",
      " [44.56236092 44.55251691 44.44594664 ... 44.34280925 44.56321073\n",
      "  44.55117902]\n",
      " [44.99338298 44.90841713 44.65014725 ... 44.47093143 44.80710229\n",
      "  44.98001982]\n",
      " [45.43178116 45.07454425 44.79531492 ... 44.62844605 44.85010941\n",
      "  45.42243616]]\n"
     ]
    }
   ],
   "source": [
    "trainData = 'trainData.csv'\n",
    "im_size = 128\n",
    "\n",
    "data = pd.read_csv(trainData, header=None)\n",
    "print(data)\n",
    "N = len(data)\n",
    "\n",
    "pixel_values = np.zeros((128,128))\n",
    "# std = np.zeros((128,128))\n",
    "\n",
    "for i in range(N):\n",
    "    img = Image.open(data[0].iloc[i]).convert(\"L\")\n",
    "    im = np.asarray(img)\n",
    "    if im.shape != (im_size, im_size):\n",
    "        im = np.asarray(Image.fromarray(im).resize((im_size, im_size)))\n",
    "    # print(im.shape)\n",
    "    # print(data[0].iloc[i])\n",
    "    pixel_values += im\n",
    "\n",
    "means = pixel_values / N\n",
    "std_sum = np.zeros((im_size, im_size))\n",
    "\n",
    "for i in range(N):\n",
    "    img = Image.open(data[0].iloc[i]).convert(\"L\")\n",
    "    im = np.asarray(img)\n",
    "    if im.shape != (im_size, im_size):\n",
    "        im = np.asarray(Image.fromarray(im).resize((im_size, im_size)))\n",
    "    # print(im.shape)\n",
    "    # print(data[0].iloc[i])\n",
    "    std_sum += np.square(im - means)\n",
    "\n",
    "std = np.sqrt(std_sum / N)\n",
    "\n",
    "print(f'[INFO] Pixel mean is {means}')\n",
    "print(f'[INFO] Pixel std is {std}')"
   ]
  },
  {
   "cell_type": "code",
   "execution_count": 23,
   "metadata": {},
   "outputs": [
    {
     "name": "stdout",
     "output_type": "stream",
     "text": [
      "[[217 217 217 ... 217 217 217]\n",
      " [217 217 217 ... 217 217 217]\n",
      " [217 216 216 ... 217 217 217]\n",
      " ...\n",
      " [217 217 217 ... 217 217 217]\n",
      " [217 217 217 ... 217 217 217]\n",
      " [217 217 217 ... 217 217 217]]\n",
      "[[45 45 44 ... 44 44 45]\n",
      " [45 45 45 ... 44 45 45]\n",
      " [45 45 45 ... 44 44 44]\n",
      " ...\n",
      " [44 44 44 ... 44 44 44]\n",
      " [44 44 44 ... 44 44 44]\n",
      " [45 45 44 ... 44 44 45]]\n"
     ]
    },
    {
     "ename": "AttributeError",
     "evalue": "module 'PIL.Image' has no attribute 'save'",
     "output_type": "error",
     "traceback": [
      "\u001b[0;31m---------------------------------------------------------------------------\u001b[0m",
      "\u001b[0;31mAttributeError\u001b[0m                            Traceback (most recent call last)",
      "\u001b[0;32m<ipython-input-23-dfa7a8bcdc8c>\u001b[0m in \u001b[0;36m<module>\u001b[0;34m\u001b[0m\n\u001b[1;32m      2\u001b[0m \u001b[0mprint\u001b[0m\u001b[0;34m(\u001b[0m\u001b[0mstd\u001b[0m\u001b[0;34m.\u001b[0m\u001b[0mastype\u001b[0m\u001b[0;34m(\u001b[0m\u001b[0;34m'uint8'\u001b[0m\u001b[0;34m)\u001b[0m\u001b[0;34m)\u001b[0m\u001b[0;34m\u001b[0m\u001b[0;34m\u001b[0m\u001b[0m\n\u001b[1;32m      3\u001b[0m \u001b[0;34m\u001b[0m\u001b[0m\n\u001b[0;32m----> 4\u001b[0;31m \u001b[0mImage\u001b[0m\u001b[0;34m.\u001b[0m\u001b[0msave\u001b[0m\u001b[0;34m(\u001b[0m\u001b[0mmeans\u001b[0m\u001b[0;34m,\u001b[0m \u001b[0;34m'mean_image.png'\u001b[0m\u001b[0;34m)\u001b[0m\u001b[0;34m\u001b[0m\u001b[0;34m\u001b[0m\u001b[0m\n\u001b[0m\u001b[1;32m      5\u001b[0m \u001b[0mImage\u001b[0m\u001b[0;34m.\u001b[0m\u001b[0msave\u001b[0m\u001b[0;34m(\u001b[0m\u001b[0mstd\u001b[0m\u001b[0;34m,\u001b[0m \u001b[0;34m'std_image.png'\u001b[0m\u001b[0;34m)\u001b[0m\u001b[0;34m\u001b[0m\u001b[0;34m\u001b[0m\u001b[0m\n",
      "\u001b[0;31mAttributeError\u001b[0m: module 'PIL.Image' has no attribute 'save'"
     ]
    }
   ],
   "source": [
    "print(means.astype('uint8'))\n",
    "print(std.astype('uint8'))\n",
    "\n",
    "Image.fromarray(means).save('mean_image.png', 'PNG')\n",
    "Image.fromarray(std).save('std_image.png', 'PNG')"
   ]
  }
 ],
 "metadata": {
  "kernelspec": {
   "display_name": "Python 3",
   "language": "python",
   "name": "python3"
  },
  "language_info": {
   "codemirror_mode": {
    "name": "ipython",
    "version": 3
   },
   "file_extension": ".py",
   "mimetype": "text/x-python",
   "name": "python",
   "nbconvert_exporter": "python",
   "pygments_lexer": "ipython3",
   "version": "3.6.8"
  }
 },
 "nbformat": 4,
 "nbformat_minor": 2
}
