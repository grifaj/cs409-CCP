{
 "cells": [
  {
   "cell_type": "code",
   "execution_count": 19,
   "id": "40c0c0e9",
   "metadata": {},
   "outputs": [
    {
     "name": "stdout",
     "output_type": "stream",
     "text": [
      "Imported 178 characters\n",
      "['起' '果' '热' '院' '四' '回' '西' '国' '高' '怎' '系' '北' '一' '七' '三' '上' '下' '不'\n",
      " '东' '子' '医' '字' '个' '十' '中' '午' '气' '学' '么' '开' '水' '九' '习' '书' '汉' '雨'\n",
      " '买' '见' '视' '零' '觉' '了' '二' '在' '五' '些' '生' '坐' '电' '块' '影' '很' '校' '客'\n",
      " '样' '家' '桌' '去' '京' '亮' '想' '友' '人' '没' '什' '对' '今' '叫' '他' '们' '面' '候'\n",
      " '苹' '做' '小' '少' '吃' '同' '名' '后' '吗' '听' '会' '爱' '爸' '租' '呢' '住' '岁' '作'\n",
      " '你' '和' '茶' '椅' '的' '车' '站' '那' '钟' '哪' '狗' '认' '识' '话' '日' '都' '语' '时'\n",
      " '菜' '说' '请' '读' '儿' '先' '钱' '我' '八' '六' '老' '关' '兴' '这' '再' '写' '打' '商'\n",
      " '猫' '谁' '明' '星' '昨' '飞' '谢' '是' '喂' '多' '喜' '喝' '大' '天' '冷' '看' '太' '几'\n",
      " '出' '女' '她' '好' '睡' '妈' '工' '现' '衣' '能' '里' '分' '饭' '馆' '姐' '前' '欢' '师'\n",
      " '脑' '火' '漂' '月' '有' '朋' '服' '年' '期' '本' '米' '店' '机' '来' '杯' '点']\n",
      "177\n",
      "179 lines added\n"
     ]
    }
   ],
   "source": [
    "import os\n",
    "import numpy as np\n",
    "import csv\n",
    "\n",
    "data_dir = './source'\n",
    "\n",
    "\n",
    "\n",
    "### Change this to file of new batch\n",
    "batch_file_dir = 'hsk_1.txt' \n",
    "\n",
    "\n",
    "\n",
    "# Load new batch file into numpy array\n",
    "char_array = np.genfromtxt(os.path.join(data_dir, batch_file_dir), delimiter=' ', encoding='utf8', dtype=None)\n",
    "print(f\"Imported {char_array.shape[0]} characters\")\n",
    "print(char_array)\n",
    "\n",
    "# Read the current character csv\n",
    "with open(os.path.join(data_dir, 'hsk.csv'), mode='r', encoding='utf8') as csv_file:\n",
    "#     csv_reader = csv.reader(csv_file, delimiter=',')\n",
    "    final_line = csv_file.readlines()[-1]\n",
    "    prev_char_count = int(final_line[0:-3])\n",
    "    csv_file.close()\n",
    "    print(prev_char_count)\n",
    "\n",
    "# Write new character batch to character csv\n",
    "with open(os.path.join(data_dir, 'hsk.csv'), mode='a', encoding='utf8', newline='') as w:\n",
    "    line_count = prev_char_count + 1\n",
    "    hsk_writer = csv.writer(w, delimiter=',', quotechar='\"', quoting=csv.QUOTE_MINIMAL)\n",
    "    for char in range(char_array.shape[0]):\n",
    "        hsk_writer.writerow([str(line_count), char_array[char]])\n",
    "        line_count+=1\n",
    "        \n",
    "        # Make new directory for new character (stores all character images)\n",
    "        if not os.path.exists(os.path.join(data_dir, str(line_count))):\n",
    "            os.makedirs(os.path.join(data_dir, str(line_count)))\n",
    "            \n",
    "    w.close()\n",
    "    \n",
    "print(f\"{line_count - prev_char_count} lines added\")"
   ]
  }
 ],
 "metadata": {
  "kernelspec": {
   "display_name": "Python 3 (ipykernel)",
   "language": "python",
   "name": "python3"
  },
  "language_info": {
   "codemirror_mode": {
    "name": "ipython",
    "version": 3
   },
   "file_extension": ".py",
   "mimetype": "text/x-python",
   "name": "python",
   "nbconvert_exporter": "python",
   "pygments_lexer": "ipython3",
   "version": "3.10.8"
  }
 },
 "nbformat": 4,
 "nbformat_minor": 5
}
