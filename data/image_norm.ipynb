{
 "cells": [
  {
   "cell_type": "code",
   "execution_count": 1,
   "metadata": {},
   "outputs": [],
   "source": [
    "from PIL import Image\n",
    "import numpy as np\n",
    "import pandas as pd"
   ]
  },
  {
   "cell_type": "code",
   "execution_count": 7,
   "metadata": {},
   "outputs": [
    {
     "name": "stdout",
     "output_type": "stream",
     "text": [
      "[INFO] std is: 59.842748470804324\n",
      "[INFO] mean is: 191.42481608020523\n"
     ]
    }
   ],
   "source": [
    "csv = 'training_data.csv'\n",
    "\n",
    "df = pd.read_csv(csv, names=[\"img\", \"label\"])\n",
    "\n",
    "im_w, im_h = 128, 128\n",
    "\n",
    "img_mean = np.zeros((im_h, im_w))\n",
    "\n",
    "for i in range(df.shape[0]):\n",
    "    im = Image.open(df[\"img\"].iloc[i]).convert(\"L\").resize((im_h,im_w))\n",
    "    img = np.asarray(im)\n",
    "    img_mean += img\n",
    "\n",
    "img_mean = img_mean / df.shape[0]\n",
    "\n",
    "img_std = np.zeros((im_h, im_w))\n",
    "\n",
    "for i in range(df.shape[0]):\n",
    "    im = Image.open(df[\"img\"].iloc[i]).convert(\"L\").resize((im_h,im_w))\n",
    "    img = np.asarray(im)\n",
    "    \n",
    "    img_std += np.square(img - img_mean)\n",
    "\n",
    "img_std = np.sqrt(img_std/df.shape[0])\n",
    "\n",
    "std = img_std.mean()\n",
    "mean = img_mean.mean()\n",
    "\n",
    "print(f'[INFO] std is: {std}')\n",
    "print(f'[INFO] mean is: {mean}')"
   ]
  }
 ],
 "metadata": {
  "kernelspec": {
   "display_name": "base",
   "language": "python",
   "name": "python3"
  },
  "language_info": {
   "codemirror_mode": {
    "name": "ipython",
    "version": 3
   },
   "file_extension": ".py",
   "mimetype": "text/x-python",
   "name": "python",
   "nbconvert_exporter": "python",
   "pygments_lexer": "ipython3",
   "version": "3.11.5"
  }
 },
 "nbformat": 4,
 "nbformat_minor": 2
}
