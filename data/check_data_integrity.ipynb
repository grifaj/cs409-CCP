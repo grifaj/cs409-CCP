{
 "cells": [
  {
   "cell_type": "code",
   "execution_count": 64,
   "id": "d1457cd8",
   "metadata": {},
   "outputs": [],
   "source": [
    "import os\n",
    "import numpy as np\n",
    "import csv\n",
    "import pandas as pd\n",
    "from tqdm import tqdm\n",
    "\n",
    "dataDir = '/dcs/project/seal-script-project-data/seal-script-new/scraped/'\n",
    "charListPath = './classical_chars.csv'\n",
    "filetype = 'png'"
   ]
  },
  {
   "cell_type": "code",
   "execution_count": 65,
   "id": "47f9e9c9",
   "metadata": {},
   "outputs": [],
   "source": [
    "def load_data(char_from, char_to):\n",
    "    data = np.genfromtxt(os.path.join(dataDir, 'hsk.csv'), delimiter=',', encoding='utf8', dtype=None)\n",
    "    char_array = data[char_from-1:char_to]\n",
    "    print(f\"Imported {char_array.shape[0]} characters from index {char_from} to {char_to}\")\n",
    "    \n",
    "    return char_array\n",
    "\n",
    "def checkMissingFolders(thresh):\n",
    "    ''' Get list of folders with less than or equals <thresh> image files. Set <thresh> to 0 for empty folders. '''\n",
    "    missing_chars = []\n",
    "    charList = pd.read_csv(charListPath, names=['idx', 'char'])\n",
    "    for i, (idx, char) in charList.iterrows():\n",
    "        charDir = os.path.join(dataDir, str(idx))\n",
    "        # Get list of all objects in directory\n",
    "        files = os.listdir(charDir)\n",
    "        # Keep objects which are files\n",
    "        files = [f for f in files if os.path.isfile(charDir+'/'+f) and f'.{filetype}' in f]\n",
    "        # Get number of files in directory\n",
    "        imageCount = len(files)\n",
    "\n",
    "        if imageCount <= thresh:\n",
    "            missing_chars.append(idx)\n",
    "            \n",
    "    return missing_chars\n",
    "\n",
    "def renameImages():\n",
    "    ''' Renames all files in dataDir to have consistent style and numbering '''\n",
    "    \n",
    "    data_dir = dataDir\n",
    "\n",
    "    files = [d.name for d in os.scandir(data_dir) if d.is_dir()]\n",
    "\n",
    "    for file in tqdm(files):\n",
    "        images = os.listdir(data_dir + os.sep + file)\n",
    "        for ii, image in enumerate(images):\n",
    "            prefix = data_dir + os.sep + file + os.sep \n",
    "            os.rename(prefix + image, prefix + f\"{file}_{ii+1}_temp.png\")\n",
    "        images = os.listdir(data_dir + os.sep + file)\n",
    "        for ii, image in enumerate(images):\n",
    "            prefix = data_dir + os.sep + file + os.sep \n",
    "            os.rename(prefix + image, prefix + f\"{file}_{ii+1}.png\")\n",
    "        \n",
    "\n",
    "def save_missing_chars(data):\n",
    "    char_df = pd.DataFrame(data)\n",
    "    char_df.to_csv(\"missing_chars.csv\", header=False, index=False)"
   ]
  },
  {
   "cell_type": "markdown",
   "id": "62b5066d",
   "metadata": {},
   "source": [
    "### Check that all characters in the main store are valid "
   ]
  },
  {
   "cell_type": "code",
   "execution_count": 37,
   "id": "6ecd9010",
   "metadata": {},
   "outputs": [
    {
     "name": "stdout",
     "output_type": "stream",
     "text": [
      "[('f0', '<i8'), ('f1', '<U1')]\n",
      "(418, '根')\n",
      "(1075,)\n",
      "[(   1, '起') (   2, '果') (   3, '热') ... (1073, '赢') (1074, '骗')\n",
      " (1075, '阅')]\n"
     ]
    }
   ],
   "source": [
    "modern_char_store = './source/hsk.csv'\n",
    "\n",
    "def check_modern_char_store(dir):\n",
    "    ''' Performs checks on the dataset csv modern_char_store to ensure all characters are valid '''\n",
    "\n",
    "    # Load in the data\n",
    "    data = np.genfromtxt(dir, delimiter=',', encoding='utf8', dtype=None)\n",
    "    print(data.dtype)\n",
    "    valid_chars = []\n",
    "\n",
    "    for i in range(data.shape[0]):\n",
    "\n",
    "        # Add checks here\n",
    "        if data[i][1] == '\\ufeff':\n",
    "            pass\n",
    "        else: # If the character is valid\n",
    "            valid_chars.append(data[i][1])\n",
    "    \n",
    "    formatted_data = np.asarray([(i+1, valid_chars[i]) for i in range(len(valid_chars))], dtype=[('f0', '<i8'), ('f1', '<U1')])\n",
    "    \n",
    "    print(formatted_data[417])\n",
    "    print(formatted_data.shape)\n",
    "    print(formatted_data)\n",
    "\n",
    "    # Save the new formatted data to file\n",
    "    np.savetxt('./source/hsk.csv', formatted_data, delimiter=',', fmt='%s')\n",
    "    \n",
    "\n",
    "\n",
    "check_modern_char_store(modern_char_store)"
   ]
  },
  {
   "cell_type": "markdown",
   "id": "efba139d",
   "metadata": {},
   "source": [
    "### Delete all images"
   ]
  },
  {
   "cell_type": "code",
   "execution_count": 12,
   "id": "29b6484c",
   "metadata": {},
   "outputs": [],
   "source": [
    "def deleteAllImages():\n",
    "    ''' Deletes all images found under directory charListPath '''\n",
    "    charList = pd.read_csv(charListPath, names=['idx', 'char'])\n",
    "    for i, (idx, char) in charList.iterrows():\n",
    "        charDir = os.path.join(dataDir, str(idx))\n",
    "  \n",
    "        for filename in os.listdir(charDir):\n",
    "            file_path = os.path.join(charDir, filename)\n",
    "            \n",
    "            try:\n",
    "                if os.path.isfile(file_path):\n",
    "                    os.remove(file_path)\n",
    "                elif os.path.isdir(file_path):\n",
    "                    shutil.rmtree(file_path)\n",
    "            except Exception as e:\n",
    "                print('Failed to delete %s. Reason: %s' % (file_path, e))\n",
    "\n",
    "# deleteAllImages()"
   ]
  },
  {
   "cell_type": "code",
   "execution_count": 45,
   "id": "a3bfa163",
   "metadata": {},
   "outputs": [],
   "source": [
    "def main():\n",
    "    # missed_chars = checkMissingFolders(2)\n",
    "    # print('Characters without images:')\n",
    "    # print(missed_chars)\n",
    "    # print(f'Found {len(missed_chars)} characters without images')\n",
    "    # save_missing_chars(missed_chars)\n",
    "    # renameImages()"
   ]
  },
  {
   "cell_type": "code",
   "execution_count": 66,
   "id": "15a56e7f",
   "metadata": {},
   "outputs": [
    {
     "name": "stderr",
     "output_type": "stream",
     "text": [
      "1000it [00:00, 3592.74it/s]\n"
     ]
    }
   ],
   "source": [
    "main()"
   ]
  }
 ],
 "metadata": {
  "kernelspec": {
   "display_name": "Python 3 (ipykernel)",
   "language": "python",
   "name": "python3"
  },
  "language_info": {
   "codemirror_mode": {
    "name": "ipython",
    "version": 3
   },
   "file_extension": ".py",
   "mimetype": "text/x-python",
   "name": "python",
   "nbconvert_exporter": "python",
   "pygments_lexer": "ipython3",
   "version": "3.9.13"
  }
 },
 "nbformat": 4,
 "nbformat_minor": 5
}
